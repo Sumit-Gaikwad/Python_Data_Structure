{
  "nbformat": 4,
  "nbformat_minor": 0,
  "metadata": {
    "colab": {
      "provenance": []
    },
    "kernelspec": {
      "name": "python3",
      "display_name": "Python 3"
    },
    "language_info": {
      "name": "python"
    }
  },
  "cells": [
    {
      "cell_type": "markdown",
      "source": [
        "#Data Types and Structures"
      ],
      "metadata": {
        "id": "f2bnqEsHbPfd"
      }
    },
    {
      "cell_type": "markdown",
      "source": [
        "##1.What are data structures, and why are they important\n",
        "* Data structures are ways of organizing and storing data to enable efficient access and modification. They are important bacause they optimize data managment, improve performance,and are essential for solving complex problem in programming and software development. Example include arrays, linked lists, stacks, queues, trees, and graphs.\n",
        "-----------------------------------------"
      ],
      "metadata": {
        "id": "ieEmLcKVcEyP"
      }
    },
    {
      "cell_type": "markdown",
      "source": [
        "##2.Explain the difference between mutable and immutable data types with examples?\n",
        "\n",
        "###Mutable Data Types\n",
        "\n",
        " * These can be modified after creation.\n",
        " * Modifications heappen in place, without changing the object's identity (memory location).\n",
        "\n",
        "***Examples:***\n",
        "\n",
        "  * List(```list```):\n",
        "```\n",
        "  my_list = [1, 2, 3]\n",
        "  my_list.append(4) # Modifies the  list\n",
        "  print(my_list) # Output : [1, 2, 3, 4]\n",
        "```\n",
        "\n",
        "  * Dictionaries (```dict```):\n",
        "```\n",
        "  my_dict = {\"name\" : \"Sumit\", \"age\": 25}\n",
        "  my_dict[\"age\"] = 26 #Modifies the dictionary\n",
        "  print(my_dict) # Output : {'name': 'Sumit', 'age': 26}\n",
        "```\n",
        "\n",
        "\n",
        "\n",
        "###Immutable Data Types\n",
        "\n",
        " * These cannot be modified after creation.\n",
        " * Any change creates a new object with a diffrent memory location .\n",
        "\n",
        "***Example:***\n",
        "  * Strings(```str```):\n",
        "```\n",
        "  my_str = \"Hello\"\n",
        "  my_str = my_str + \"World\" # Creates a new string, doesn't modify the original\n",
        "  print(my_str) # Output: 'Hello World'\n",
        "```\n",
        "\n",
        "  * Tuples(```tuple```):\n",
        "```\n",
        "my_tuple = (1, 2, 3)\n",
        "# my_tuple[0] = 10 # This would raise an error because tuples are immutable\n",
        "```\n",
        "___________________________________________________________________________\n",
        "\n",
        "\n",
        "\n"
      ],
      "metadata": {
        "id": "rKchGQBGdUtr"
      }
    },
    {
      "cell_type": "markdown",
      "source": [
        "##3.What are the main differences between lists and tuples in Python?\n",
        "\n",
        "###Mutability :\n",
        "  * **List** :- Mutable (can be changed)\n",
        "  * **Tuple** :- Immutable (cannnot be changed)\n",
        "\n",
        "###Syntax :\n",
        "  * **List** :- ```my_list = [1, 2, 3]```\n",
        "  * **Tuple** :- ```my tuple = (1, 2, 3)```\n",
        "\n",
        "###Performance :\n",
        "  * **List** :- Slower\n",
        "  * **Tuple** : Faster\n",
        "\n",
        "###Memory Usages :\n",
        "  * **List** :- Uses more memory\n",
        "  * **Tuple** :- Uses less memory\n",
        "\n",
        "###Methods:\n",
        "  * **List Supports** :- ```append(), remove(),```etc.\n",
        "  * **Tuple** :- Limited methods like ```count(), index()```\n",
        "\n",
        "###Use Case:\n",
        "  * **List** :- When data needs modification\n",
        "  * **Tuple** :- When data should remain constant\n",
        "\n",
        "___________________________________________________________________________\n",
        "  "
      ],
      "metadata": {
        "id": "VyO_Oq-ihqk1"
      }
    },
    {
      "cell_type": "markdown",
      "source": [
        "##4.Describe how dictionaries store data?\n",
        "* Dictionaries store dara as key-value pairs using a hast table. Each key is hashed to an index, allowing fast access (O(1) time complexity). Keys must be unique and immutable, while values can be any data type. From Pytho 3.7+, dictioneries maintain insertion order.\n",
        "\n",
        "**Example:**\n",
        "```\n",
        "my_dict = {\"name\": \"Sumit\", \"age\": 25}\n",
        "print(my_dict[\"name\") #Output: Sumit\n",
        "```\n",
        "-----------------------------------------"
      ],
      "metadata": {
        "id": "MIPS2roulXMz"
      }
    },
    {
      "cell_type": "markdown",
      "source": [
        "##5.Why might you use a set instead of a list in Python?\n",
        "* **You might use a set instead of a list in Python when:**\n",
        "  * **Uniqueness:** Sets automatically remove duplicate values.\n",
        "  * **Faster Lookups:** Searching in a set is O(1), while in a list, it's **O(n)**\n",
        "  * **Mathematical Operations:** Sets support operations line union, intersection, and difference.\n",
        "\n",
        "**Example:**\n",
        "```\n",
        "my_set = {1, 2, 3, 3, 4) #Dupicates remove automatically\n",
        "print(my_set) # Output: {1, 2, 3, 4)\n",
        "```\n",
        "_________________________________________\n",
        "\n"
      ],
      "metadata": {
        "id": "yU1GL7-PnaWc"
      }
    },
    {
      "cell_type": "markdown",
      "source": [
        "##6.What is a string in Python, and how is it different from a list?\n",
        "A String in Python is a sequence of charactes enclose in quotes ( \" \" or ' '), While a list is a collection of elements that can be of any data type.\n",
        "\n",
        "* **String (```str```):** A sequence of characters, immutable.\n",
        "\n",
        "***Example:***```\"hello\"```\n",
        "\n",
        "* **List:** A collection of elements (any type), mutable\n",
        "\n",
        "***Example:*** ```[\"h\", \"e\", \"l\", \"l\", \"o\"]```\n",
        "\n",
        "* **Mutability:**\n",
        "  * **String:** Cannot be changed\n",
        "  * **List:** Can be modified\n",
        "\n",
        "* **Use Case:**\n",
        "  * **String:** For text data\n",
        "  * **List:** When midificaton is needed\n",
        "___________________________________________________________________________\n",
        "\n",
        "\n",
        "\n"
      ],
      "metadata": {
        "id": "KrJZWRlGpJCR"
      }
    },
    {
      "cell_type": "markdown",
      "source": [
        "##7.How do tuples ensure data integrity in Python?\n",
        "* Tuples ensure data integrity in Python by being immutablel, meaning their values cannot be changed after creation. This prevent accidental modifications, making them ideal for storing constant or fixed data.\n",
        "\n",
        "***Example:***\n",
        "```\n",
        "my_tuple = (1, 2, 3)\n",
        "#my_tuple[0] = 10 #Not allowed (raises TypeError)\n",
        "```\n",
        "________________________________________________________________________________\n"
      ],
      "metadata": {
        "id": "9TMRXsUxr3aW"
      }
    },
    {
      "cell_type": "markdown",
      "source": [
        "##8.What is a hash table, and how does it relate to dictionaries in Python?\n",
        "* A hash table is a data strucuture that stores key-value pairs using a hash function for fast lookups.\n",
        "In Python dictionaries (```dict```)are implemented using hash tables\n",
        " * Fast access(```O(1)```average time complexity)\n",
        " * Unique keys mapped to values\n",
        " * Efficient insertions & lookups\n",
        "\n",
        "***Example:***\n",
        "```\n",
        "my_dict = {\"name\" : \"Sumit\", \"age\": 25}\n",
        "print(my_dict[\"name]) # Fast lookup\n",
        "```\n",
        "_________________________________________"
      ],
      "metadata": {
        "id": "TFWC8YPntAA8"
      }
    },
    {
      "cell_type": "markdown",
      "source": [
        "##9.Can lists contain different data types in Python?\n",
        "* Python lists can hold multiple data types in single list.\n",
        "\n",
        "***Example:***\n",
        "```\n",
        "my_list = [10, \"hello\", 3.14, True]\n",
        "print(my_list) # [ 10, 'hello', 3.14, True]\n",
        "```\n",
        "List are dynamic and can store integers, strings, floats, booleans and even other lists.\n",
        "_________________________________________"
      ],
      "metadata": {
        "id": "LoUobsbcF2Kx"
      }
    },
    {
      "cell_type": "markdown",
      "source": [
        "##10. Explain why strings are immutable in Python?\n",
        "* Strings in Python are immutable meaning they cannot be changed after creation.\n",
        "\n",
        "**Reasons:**\n",
        "  * **Memory Efficiency :** Avoids unnecessary duplication,\n",
        "  * **Security :*** Prevents accidental moddification.\n",
        "  * **Hashing :** Strings can be used as dictionary keys (which require immutability).\n",
        "\n",
        "***Example :***\n",
        "```\n",
        "s = \"hello\"\n",
        "s[0] = \"H\" # TypeError : 'str' object does not support item assignment\n",
        "```\n",
        "**Instead create a new string:**\n",
        "```\n",
        "s = \"H\" + s[1:] #crates a new modified string\n",
        "```\n",
        "_________________________________________\n"
      ],
      "metadata": {
        "id": "WIvD5te6G5hY"
      }
    },
    {
      "cell_type": "markdown",
      "source": [
        "##11.What advantages do dictionaries offer over lists for certain tasks?\n",
        "* **Advantages of Dictionaries Over Lists***\n",
        "Dictionaries (```dict```) are better than lists for certain tasks due to:\n",
        "  * **Fast Lookups(```O(1)```):-** Accessing values by key is much faster tahn serching in a list (```O(1)```).\n",
        "  * **Key-Value Pair Storing:-** Allows meaningful data associatins (```{\"name\": \"Sumit\"} vs. [\"Sumit]```)\n",
        "  * **No Duplicate Keys:-** Ensures unique identifiers for data.\n",
        "  * **Efficient Updates & Deletions:-** Modifying a dictionary is faster than searching and modifying a list.\n",
        "\n",
        "***Example:-***\n",
        "```\n",
        "#Using a dictonary for fast lookup\n",
        "student_ages = {\"Sumit\" : 25, \"Raj\" : 22}\n",
        "print(student_ages[\"Sumit\"]) # Fast lookup (O(1))\n",
        "```\n",
        "_________________________________________\n",
        "\n",
        "\n",
        "\n"
      ],
      "metadata": {
        "id": "vX2a_riZJSDJ"
      }
    },
    {
      "cell_type": "markdown",
      "source": [
        "##12.Describe a scenario where using a tuple would be preferable over a list?\n",
        "* **Scenario: Using a Tuple Instead of a List**\n",
        "When Data Should Not Change (Immutability)\n",
        "Use a Tuple when you need to store fixed data that should not be modified.\n",
        "\n",
        "***Example : Storing Coordinates***\n",
        "```\n",
        "corfinates = (40.7128, -74.0060) #Latitude & Longitude (New York)\n",
        "```\n",
        "_________________________________________"
      ],
      "metadata": {
        "id": "yWFKXgS9Ovjp"
      }
    },
    {
      "cell_type": "markdown",
      "source": [
        "##13. How do sets handle duplicate values in Python?\n",
        "* Sets automatically remove duplicates!\n",
        " * A set stores only unique values and ignores duplicates.\n",
        "\n",
        "```\n",
        "my_set = {1, 2, 3, 4, 4, 5}\n",
        "print(my_set) # Output : {1, 2, 3, 4, 5}\n",
        "```\n",
        "_________________________________________\n"
      ],
      "metadata": {
        "id": "qrfx1tmNQfAK"
      }
    },
    {
      "cell_type": "markdown",
      "source": [
        "##14.How does the “in” keyword work differently for lists and dictionaries?\n",
        " **For Lists :** Checks if a value exists. (```O(n)```,slower)\n",
        "\n",
        "  **For Dictionaries :** Checks if a key exists.(```O(1)```,faster)\n",
        "\n",
        "***Example With a List :***\n",
        "```\n",
        "my_list = [10, 20, 30]\n",
        "print(20 in my_list) #True (Checks values)\n",
        "```\n",
        "\n",
        "***Example With a Dictionary :***\n",
        "```\n",
        "my_dict = {\"name\" : \"Sumit\", \"age\" : 25}\n",
        "print(\"name\" in my_dict) # True (Checks keys, not values)\n",
        "```\n",
        "_________________________________________"
      ],
      "metadata": {
        "id": "mU0si0dHRowu"
      }
    },
    {
      "cell_type": "markdown",
      "source": [
        "##15.Can you modify the elements of a tuple? Explain why or why not?\n",
        "* **Can You Modify ELements of a Tuple? No!**\n",
        "\n",
        "Tuple are immitable, meaning you cannot change, add, or remove elements after creation.\n",
        "\n",
        "\n",
        "**Why?**\n",
        "  * **Memory Effeciency :-** Tuples use less memory than lists.\n",
        "  * **Data Integrity :-** Preventa accidental modification.\n",
        "  * **Hashability :-** Tuples can be used as dictonary keys, unlike lists.\n",
        "  \n",
        "***Example :***\n",
        "\n",
        "```\n",
        "my_tuple = {1, 2, 3)\n",
        "my_tuple[0] = 10 # TypeError : 'tuple' object does not support item assignment\n",
        "```\n",
        "_________________________________________\n"
      ],
      "metadata": {
        "id": "BY0lM0h2Woex"
      }
    },
    {
      "cell_type": "markdown",
      "source": [
        "##16.What is a nested dictionary, and give an example of its use case?\n",
        "* A nested dictionary is a dictionary inside another dictionary, allowing hierarchical data storage.\n",
        "\n",
        "**Use Case: Storing Student Records**\n",
        "```\n",
        "student = {\n",
        "  \"Sumit\" : {\"age\" 25, \"grade\" : \"A\"},\n",
        "  \"Raj\" : {\"age : 22, \"grade\" : \"B\"}\n",
        "}\n",
        "\n",
        "print(students[\"Sumit\"][\"grade\"] # Output : A\n",
        "```\n",
        "___________________________________________________________________________"
      ],
      "metadata": {
        "id": "AwVVoAtgY4S5"
      }
    },
    {
      "cell_type": "markdown",
      "source": [
        "##17.Describe the time complexity of accessing elements in a dictionary?\n",
        "* **Average Case:-** ```O(1)```(Constant Time)\n",
        "  * Dictinaries use hashing, making key lookups very fast.\n",
        "* **Worst Case:-** O(n)(Linear Time)\n",
        "  * Happens when hash collisions occur, requiring a sequential search.\n",
        "\n",
        "***Example:***\n",
        "```\n",
        "my_dict = {\"a\" : 1, \"b\" : 2, \"c\" : 3}\n",
        "print(my_dict[\"b\"]) # O(1) lookup\n",
        "```\n",
        "________________________________________________"
      ],
      "metadata": {
        "id": "iGedawEQbgcp"
      }
    },
    {
      "cell_type": "markdown",
      "source": [
        "##18.In what situations are lists preferred over dictionaries?\n",
        "**1. Ordered Data:-** Lists maintain order while dictionaries(before Python 3.7)\n",
        "\n",
        "**2. Sequential Access:-** When index-based axxess is needed(```my_list[0]```).\n",
        "\n",
        "**3. Simple Data Strorage:-** When only values matter (e.g,, ```[10, 20, 30]```).\n",
        "\n",
        "**4. Less Memory Usage:-** Lists use less memory compared to dictionaries.\n",
        "\n",
        "\n",
        "***Example: Using a List For Ordered Data**\n",
        "```\n",
        "numbers = [10, 20, 30] # Order matters\n",
        "print(numbers[1]) # Output: 20\n",
        "```\n",
        "__________________________________________________________\n"
      ],
      "metadata": {
        "id": "o0n5rSF-o-D_"
      }
    },
    {
      "cell_type": "markdown",
      "source": [
        "##19.Why are dictionaries considered unordered, and how does that affect data retrieval?\n",
        "* Before Python 3.7, dictionaries did not guarantee key order because they used hashing, which stored keys in an arbitraty order for fast lookups.\n",
        "\n",
        "**Effect on Data Retrieval :-**\n",
        "  * **Fast lookups(```O(1)```) :** No need to search sequentially.\n",
        "  * **No guaranteed order(before Python 3.7) :** Keys may appear in different orders.\n",
        "\n",
        "***Example (Pre-Python 3.7) :***\n",
        "```\n",
        "my_dict = {\"a\" : 2, \"a\" : 1, \"c\" : 3}\n",
        "print(my_dict) # Order may not be preserved.\n",
        "```\n",
        "__________________"
      ],
      "metadata": {
        "id": "z55Cu6AEq0pF"
      }
    },
    {
      "cell_type": "markdown",
      "source": [
        "##20.Explain the difference between a list and a dictionary in terms of data retrieval.?\n",
        "* **List :-** Access elements by index -> ```O(1)``` (fast), but searching for a value takes ```O(n)```.\n",
        "\n",
        "***List Example :*** ```my_list[2]```retrieves the 3rd element.\n",
        "\n",
        "\n",
        "* **Dictionary :-** Access elements by key -> ```O(1)``` (average case, faster due to hashing).\n",
        "\n",
        "***Dictionary Example :*** ```my_dict[\"name\"]``` retrieves the value for \"name\".\n",
        "\n",
        "\n",
        "**Use Case :** Lists for ordered data, dictionaries for key-value lookups.\n",
        "\n",
        "_____________________________________________\n",
        "\n",
        "\n",
        "\n"
      ],
      "metadata": {
        "id": "IYB0M9Coso6u"
      }
    },
    {
      "cell_type": "markdown",
      "source": [
        "#Practical"
      ],
      "metadata": {
        "id": "KXTSDywQvrTN"
      }
    },
    {
      "cell_type": "code",
      "source": [
        "#1.Write a code to create a string with your name and print it.\n",
        "\n",
        "name = \"Sumit Gaikwad\" #Create a string with name\n",
        "print(name) # Print the name\n"
      ],
      "metadata": {
        "colab": {
          "base_uri": "https://localhost:8080/"
        },
        "id": "r0dp4rB8v0C0",
        "outputId": "510459ae-4176-4772-995b-8aaeae69aa7b"
      },
      "execution_count": null,
      "outputs": [
        {
          "output_type": "stream",
          "name": "stdout",
          "text": [
            "Sumit Gaikwad\n"
          ]
        }
      ]
    },
    {
      "cell_type": "code",
      "source": [
        "#2.Write a code to find the length of the string \"Hello World\"?\n",
        "\n",
        "text = \"Hello World\" # Define the string\n",
        "print(\"Lenght of the string:\", len(text)) # Print the lenght\n"
      ],
      "metadata": {
        "colab": {
          "base_uri": "https://localhost:8080/"
        },
        "id": "K7Uqe_vkwJqP",
        "outputId": "a03f158d-9d93-48b2-9a8c-f1aff6063ee7"
      },
      "execution_count": null,
      "outputs": [
        {
          "output_type": "stream",
          "name": "stdout",
          "text": [
            "Lenght of the string: 11\n"
          ]
        }
      ]
    },
    {
      "cell_type": "code",
      "source": [
        "#3.Write a code to slice the first 3 characters from the string \"Python Programming\"\n",
        "\n",
        "text = \"Python Programming\" # Define the string\n",
        "sliced_text =  text[:3] # Slice the first 3 characters\n",
        "print(sliced_text)\n"
      ],
      "metadata": {
        "colab": {
          "base_uri": "https://localhost:8080/"
        },
        "id": "EU7T0bJ3xB2q",
        "outputId": "6b338b11-5335-4344-c7f5-d00a0341e83a"
      },
      "execution_count": null,
      "outputs": [
        {
          "output_type": "stream",
          "name": "stdout",
          "text": [
            "Pyt\n"
          ]
        }
      ]
    },
    {
      "cell_type": "code",
      "source": [
        "#4.Write a code to convert the string \"hello\" to uppercase.\n",
        "\n",
        "text = \"hello\"\n",
        "uppercase_text = text.upper() # Convert to uppercase\n",
        "print(uppercase_text)\n"
      ],
      "metadata": {
        "colab": {
          "base_uri": "https://localhost:8080/"
        },
        "id": "U-zKiYASykTZ",
        "outputId": "5e851847-9010-4fab-a2a9-cd211d0f5d10"
      },
      "execution_count": null,
      "outputs": [
        {
          "output_type": "stream",
          "name": "stdout",
          "text": [
            "HELLO\n"
          ]
        }
      ]
    },
    {
      "cell_type": "code",
      "source": [
        "#5.Write a code to replace the word \"apple\" with \"orange\" in the string \"I like apple\"\n",
        "\n",
        "text = \"I like apple\"\n",
        "new_text = text.replace(\"apple\", \"orange\") # Replace \"apple\" with \"orange\"\n",
        "print(new_text)\n"
      ],
      "metadata": {
        "colab": {
          "base_uri": "https://localhost:8080/"
        },
        "id": "oe_DatnjzH6D",
        "outputId": "5811ea84-6dd1-4ad2-8448-d65bf77d97a4"
      },
      "execution_count": null,
      "outputs": [
        {
          "output_type": "stream",
          "name": "stdout",
          "text": [
            "I like orange\n"
          ]
        }
      ]
    },
    {
      "cell_type": "code",
      "source": [
        "#6.Write a code to create a list with numbers 1 to 5 and print it.\n",
        "\n",
        "numbers = [1, 2, 3, 4, 5] # Create a list with numbers 1 to 5\n",
        "print(numbers)\n"
      ],
      "metadata": {
        "colab": {
          "base_uri": "https://localhost:8080/"
        },
        "id": "SjK3_eB1z9Zy",
        "outputId": "ba5f9407-8c83-40e0-bb85-22c80bbe36d4"
      },
      "execution_count": null,
      "outputs": [
        {
          "output_type": "stream",
          "name": "stdout",
          "text": [
            "[1, 2, 3, 4, 5]\n"
          ]
        }
      ]
    },
    {
      "cell_type": "code",
      "source": [
        "#7.Write a code to append the number 10 to the list [1, 2, 3, 4]\n",
        "\n",
        "numbers = [1, 2, 3, 4]\n",
        "numbers.append(10) # Append 10 to the list\n",
        "print(numbers)\n"
      ],
      "metadata": {
        "colab": {
          "base_uri": "https://localhost:8080/"
        },
        "id": "APJYnFhR0dgS",
        "outputId": "aa56865a-d1fd-485b-a9ef-ee4d949d63dc"
      },
      "execution_count": null,
      "outputs": [
        {
          "output_type": "stream",
          "name": "stdout",
          "text": [
            "[1, 2, 3, 4, 10]\n"
          ]
        }
      ]
    },
    {
      "cell_type": "code",
      "source": [
        "#8.Write a code to remove the number 3 from the list [1, 2, 3, 4, 5].\n",
        "\n",
        "numbers = [1, 2, 3, 4, 5]\n",
        "numbers.remove(3) # Remove the number 3\n",
        "print(numbers)\n"
      ],
      "metadata": {
        "colab": {
          "base_uri": "https://localhost:8080/"
        },
        "id": "AQb192VK2gb3",
        "outputId": "ac87ed48-384f-49d6-bb2c-423ecd5c4a90"
      },
      "execution_count": null,
      "outputs": [
        {
          "output_type": "stream",
          "name": "stdout",
          "text": [
            "[1, 2, 4, 5]\n"
          ]
        }
      ]
    },
    {
      "cell_type": "code",
      "source": [
        "#9.Write a code to access the second element in the list ['a', 'b', 'c', 'd']\n",
        "\n",
        "letters = ['a', 'b', 'c', 'd']\n",
        "second_element = letters[1] # Access the second element (index 1)\n",
        "print(second_element)\n"
      ],
      "metadata": {
        "colab": {
          "base_uri": "https://localhost:8080/"
        },
        "id": "2qwLkfKW3UFJ",
        "outputId": "16ec9ff9-6893-47ec-d4cb-9b4e06b16f29"
      },
      "execution_count": null,
      "outputs": [
        {
          "output_type": "stream",
          "name": "stdout",
          "text": [
            "b\n"
          ]
        }
      ]
    },
    {
      "cell_type": "code",
      "source": [
        "#10.Write a code to reverse the list [10, 20, 30, 40, 50].\n",
        "\n",
        "numbers = [10, 20, 30, 40, 50]\n",
        "numbers.reverse() # Reverse the list\n",
        "print(numbers)\n"
      ],
      "metadata": {
        "colab": {
          "base_uri": "https://localhost:8080/"
        },
        "id": "em_6zKOo4nC2",
        "outputId": "e3c0b990-2cd1-4d2d-875a-9638f33bcb33"
      },
      "execution_count": null,
      "outputs": [
        {
          "output_type": "stream",
          "name": "stdout",
          "text": [
            "[50, 40, 30, 20, 10]\n"
          ]
        }
      ]
    },
    {
      "cell_type": "code",
      "source": [
        "#11.Write a code to create a tuple with the elements 100, 200, 300 and print it.\n",
        "\n",
        "my_tuple = (100, 200, 300) # Create a tuple with the elements 100, 200, 300\n",
        "print(my_tuple)\n"
      ],
      "metadata": {
        "colab": {
          "base_uri": "https://localhost:8080/"
        },
        "id": "HUe63bK45mPc",
        "outputId": "7e109bad-3523-403f-ba5a-73e8c92093af"
      },
      "execution_count": null,
      "outputs": [
        {
          "output_type": "stream",
          "name": "stdout",
          "text": [
            "(100, 200, 300)\n"
          ]
        }
      ]
    },
    {
      "cell_type": "code",
      "source": [
        "#12.Write a code to access the second-to-last element of the tuple ('red', 'green', 'blue', 'yellow')\n",
        "\n",
        "colors =  ('red', 'green', 'blue', 'yellow')\n",
        "second_last = colors[-2] # Access the second-to-last element\n",
        "print(second_last)\n"
      ],
      "metadata": {
        "colab": {
          "base_uri": "https://localhost:8080/"
        },
        "id": "xtmfk7ob6XT3",
        "outputId": "9bdc8f5c-1dd3-4a77-9530-934c6ae74b8d"
      },
      "execution_count": null,
      "outputs": [
        {
          "output_type": "stream",
          "name": "stdout",
          "text": [
            "blue\n"
          ]
        }
      ]
    },
    {
      "cell_type": "code",
      "source": [
        "#13.Write a code to find the minimum number in the tuple (10, 20, 5, 15)\n",
        "\n",
        "numbers = (10, 20, 5, 15)\n",
        "min_number = min(numbers) # Find the minimum number\n",
        "print(min_number)\n"
      ],
      "metadata": {
        "colab": {
          "base_uri": "https://localhost:8080/"
        },
        "id": "V-ww-rPz7Ddx",
        "outputId": "bcd4625b-0c36-406b-b348-722e38bb349b"
      },
      "execution_count": null,
      "outputs": [
        {
          "output_type": "stream",
          "name": "stdout",
          "text": [
            "5\n"
          ]
        }
      ]
    },
    {
      "cell_type": "code",
      "source": [
        "#14.Write a code to find the index of the element \"cat\" in the tuple ('dog', 'cat', 'rabbit')\n",
        "\n",
        "animals = ('dog', 'cat', 'rabbit')\n",
        "index = animals.index(\"cat\") # Find the index of \"cat\"\n",
        "print(index)\n"
      ],
      "metadata": {
        "colab": {
          "base_uri": "https://localhost:8080/"
        },
        "id": "wRUhnggp7gfp",
        "outputId": "608fb26b-75c2-4d26-952f-b9f7bc65ba27"
      },
      "execution_count": null,
      "outputs": [
        {
          "output_type": "stream",
          "name": "stdout",
          "text": [
            "1\n"
          ]
        }
      ]
    },
    {
      "cell_type": "code",
      "source": [
        "#15.Write a code to create a tuple containing three different fruits and check if \"kiwi\" is in it.\n",
        "\n",
        "fruits = (\"apple\", \"banana\", \"orange\")\n",
        "is_kiwi_present = \"kiwi\" in fruits # chrck of \"kiwi\" is in the tuple\n",
        "print(is_kiwi_present)\n"
      ],
      "metadata": {
        "colab": {
          "base_uri": "https://localhost:8080/"
        },
        "id": "kONYUucG8KTO",
        "outputId": "6823938f-fe10-4e6a-d597-3684a8482719"
      },
      "execution_count": null,
      "outputs": [
        {
          "output_type": "stream",
          "name": "stdout",
          "text": [
            "False\n"
          ]
        }
      ]
    },
    {
      "cell_type": "code",
      "source": [
        "#16.Write a code to create a set with the elements 'a', 'b', 'c' and print it\n",
        "\n",
        "my_set = {'a', 'b', 'c'}\n",
        "print(my_set)\n"
      ],
      "metadata": {
        "id": "mMxfuCDa9Rwc",
        "colab": {
          "base_uri": "https://localhost:8080/"
        },
        "outputId": "8702a553-9946-4dc7-f6ab-46179e36ca1f"
      },
      "execution_count": null,
      "outputs": [
        {
          "output_type": "stream",
          "name": "stdout",
          "text": [
            "{'a', 'b', 'c'}\n"
          ]
        }
      ]
    },
    {
      "cell_type": "code",
      "source": [
        "#17. Write a code to clear all elements from the set {1, 2, 3, 4, 5}.\n",
        "\n",
        "my_set = {1, 2, 3, 4, 5}\n",
        "my_set.clear() # Clear all elements\n",
        "print(my_set)\n"
      ],
      "metadata": {
        "colab": {
          "base_uri": "https://localhost:8080/"
        },
        "id": "qpcP5ZgmowwG",
        "outputId": "5ab59ba2-b79b-44a8-eac6-3748e973131a"
      },
      "execution_count": null,
      "outputs": [
        {
          "output_type": "stream",
          "name": "stdout",
          "text": [
            "set()\n"
          ]
        }
      ]
    },
    {
      "cell_type": "code",
      "source": [
        "#18.Write a code to remove the element 4 from the set {1, 2, 3, 4}\n",
        "\n",
        "my_set = {1, 2, 3, 4}\n",
        "my_set.remove(4) # Remove element 4\n",
        "print(my_set)\n"
      ],
      "metadata": {
        "colab": {
          "base_uri": "https://localhost:8080/"
        },
        "id": "5HIBFSuTpD_U",
        "outputId": "967b52ba-afdf-4ef3-e3ae-9a9fc92a3e50"
      },
      "execution_count": null,
      "outputs": [
        {
          "output_type": "stream",
          "name": "stdout",
          "text": [
            "{1, 2, 3}\n"
          ]
        }
      ]
    },
    {
      "cell_type": "code",
      "source": [
        "#19. Write a code to find the union of two sets {1, 2, 3} and {3, 4, 5}.\n",
        "\n",
        "set1 = {1, 2, 3}\n",
        "set2 = {3, 4, 5}\n",
        "union_set = set1.union(set2) # Find the union of the sets\n",
        "print(union_set)\n"
      ],
      "metadata": {
        "colab": {
          "base_uri": "https://localhost:8080/"
        },
        "id": "9TosPuynpXCV",
        "outputId": "8484cd12-1a94-45ce-ae26-d6a21310d9f6"
      },
      "execution_count": null,
      "outputs": [
        {
          "output_type": "stream",
          "name": "stdout",
          "text": [
            "{1, 2, 3, 4, 5}\n"
          ]
        }
      ]
    },
    {
      "cell_type": "code",
      "source": [
        "#20. Write a code to find the intersection of two sets {1, 2, 3} and {2, 3, 4}\n",
        "\n",
        "set1 = {1, 2, 3}\n",
        "set2 = {2, 3, 4}\n",
        "intersection_set = set1.intersection(set2) # Find the intersection of the sets\n",
        "print(intersection_set)\n"
      ],
      "metadata": {
        "colab": {
          "base_uri": "https://localhost:8080/"
        },
        "id": "W9fqYgAcqRsp",
        "outputId": "cad33117-98b5-4c43-c095-c1b010aee96d"
      },
      "execution_count": null,
      "outputs": [
        {
          "output_type": "stream",
          "name": "stdout",
          "text": [
            "{2, 3}\n"
          ]
        }
      ]
    },
    {
      "cell_type": "code",
      "source": [
        "#21. Write a code to create a dictionary with the keys \"name\", \"age\", and \"city\", and print it.\n",
        "\n",
        "person = {\n",
        "    \"name\" : \"Sumit\",\n",
        "    \"age\" : 25,\n",
        "    \"city\" : \"Mumbai\",\n",
        "}\n",
        "\n",
        "print(person)\n"
      ],
      "metadata": {
        "colab": {
          "base_uri": "https://localhost:8080/"
        },
        "id": "-5HESQ5nq4A5",
        "outputId": "e04c309a-99d1-408f-ac36-efabe9324a33"
      },
      "execution_count": null,
      "outputs": [
        {
          "output_type": "stream",
          "name": "stdout",
          "text": [
            "{'name': 'Sumit', 'age': 25, 'city': 'Mumbai'}\n"
          ]
        }
      ]
    },
    {
      "cell_type": "code",
      "source": [
        "#22.Write a code to add a new key-value pair \"country\": \"USA\" to the dictionary {'name': 'John', 'age': 25}.\n",
        "\n",
        "person = {'name' : 'John' , 'age' : 25}\n",
        "person['country'] = 'USA' # Add a new key-value pair\n",
        "print(person)\n"
      ],
      "metadata": {
        "colab": {
          "base_uri": "https://localhost:8080/"
        },
        "id": "jkBhBU3irazz",
        "outputId": "ba04da2c-7709-46d9-b7c3-6ddd1022fa15"
      },
      "execution_count": null,
      "outputs": [
        {
          "output_type": "stream",
          "name": "stdout",
          "text": [
            "{'name': 'John', 'age': 25, 'country': 'USA'}\n"
          ]
        }
      ]
    },
    {
      "cell_type": "code",
      "source": [
        "#23. Write a code to access the value associated with the key \"name\" in the dictionary {'name': 'Alice', 'age': 30}\n",
        "\n",
        "person = {'name' : 'Sumit' , 'age' : 30}\n",
        "name_value = person['name'] # Access the value associated with the key \"name\"\n",
        "print(name_value)\n"
      ],
      "metadata": {
        "colab": {
          "base_uri": "https://localhost:8080/"
        },
        "id": "1MrryZsYsybh",
        "outputId": "85651312-5049-41cf-ab1e-fc47de2eaf7d"
      },
      "execution_count": null,
      "outputs": [
        {
          "output_type": "stream",
          "name": "stdout",
          "text": [
            "Sumit\n"
          ]
        }
      ]
    },
    {
      "cell_type": "code",
      "source": [
        "#24. Write a code to remove the key \"age\" from the dictionary {'name': 'Bob', 'age': 22, 'city': 'New York'}\n",
        "\n",
        "person = {'name' : 'Bob' , 'age' : 22 , 'city' : 'New York'}\n",
        "del person['age'] # Remove the key \"age\"\n",
        "print(person)\n"
      ],
      "metadata": {
        "colab": {
          "base_uri": "https://localhost:8080/"
        },
        "id": "3Cp5se_qtdbs",
        "outputId": "fe98e3a0-555a-4742-9f60-48dcaceeec65"
      },
      "execution_count": null,
      "outputs": [
        {
          "output_type": "stream",
          "name": "stdout",
          "text": [
            "{'name': 'Bob', 'city': 'New York'}\n"
          ]
        }
      ]
    },
    {
      "cell_type": "code",
      "source": [
        "#25.Write a code to check if the key \"city\" exists in the dictionary {'name': 'Alice', 'city': 'Paris'}\n",
        "\n",
        "person = {'name' : 'Alice' , 'city' : 'paris'}\n",
        "if \"city\" in person: #Check if \"city\" exists in the dictionry\n",
        "  print(\"key 'city' exists in the dictionary\")\n",
        "else:\n",
        "    print(\"key 'city' does not exist in the dictionary.\")\n"
      ],
      "metadata": {
        "colab": {
          "base_uri": "https://localhost:8080/"
        },
        "id": "tHhPgdQ2uo8H",
        "outputId": "9d97ea1a-5879-445c-9b70-e362db4fe049"
      },
      "execution_count": null,
      "outputs": [
        {
          "output_type": "stream",
          "name": "stdout",
          "text": [
            "key 'city' exists in the dictionary\n"
          ]
        }
      ]
    },
    {
      "cell_type": "code",
      "source": [
        " #26.Write a code to create a list, a tuple, and a dictionary, and print them all.\n",
        "\n",
        "my_list = [1, 2, 3, 4, 5]\n",
        "my_tuple = ('apple', 'banana', 'cherry') # Create a tuple\n",
        "my_dict = {'name' : 'Sumit' , 'age' : 25 , 'city' : 'Mumbai'} # Create a dictionary\n",
        "print(\"List:\" , my_list)\n",
        "print(\"Tuple:\" , my_tuple)\n",
        "print(\"Dictionary:\" , my_dict)\n",
        "\n"
      ],
      "metadata": {
        "colab": {
          "base_uri": "https://localhost:8080/"
        },
        "id": "ivRj83Dovr9D",
        "outputId": "2fe57584-e651-4285-f5f0-beb8370c3a3d"
      },
      "execution_count": null,
      "outputs": [
        {
          "output_type": "stream",
          "name": "stdout",
          "text": [
            "List: [1, 2, 3, 4, 5]\n",
            "Tuple: ('apple', 'banana', 'cherry')\n",
            "Dictionary: {'name': 'Sumit', 'age': 25, 'city': 'Mumbai'}\n"
          ]
        }
      ]
    },
    {
      "cell_type": "code",
      "source": [
        "#27.Write a code to create a list of 5 random numbers between 1 and 100, sort it in ascending order, and print the result.(replaced)\n",
        "\n",
        "import random\n",
        "\n",
        "random_numbers = random.sample(range(1, 101), 5)\n",
        "random_numbers.sort()\n",
        "print(random_numbers)\n"
      ],
      "metadata": {
        "colab": {
          "base_uri": "https://localhost:8080/"
        },
        "id": "bZNFAjT90YLd",
        "outputId": "bd064f3a-9cb0-4e30-ffb5-9c227537d1ed"
      },
      "execution_count": null,
      "outputs": [
        {
          "output_type": "stream",
          "name": "stdout",
          "text": [
            "[16, 29, 36, 47, 92]\n"
          ]
        }
      ]
    },
    {
      "cell_type": "code",
      "source": [
        "#28.Write a code to create a list with strings and print the element at the third index\n",
        "\n",
        "my_list = [\"apple\", \"banana\", \"cherry\", \"data\", \"elderberry\"]\n",
        "print(my_list[3])\n"
      ],
      "metadata": {
        "colab": {
          "base_uri": "https://localhost:8080/"
        },
        "id": "rTwGW3661LKl",
        "outputId": "9a84c0fd-1da2-45fb-995f-6f4141fab685"
      },
      "execution_count": null,
      "outputs": [
        {
          "output_type": "stream",
          "name": "stdout",
          "text": [
            "data\n"
          ]
        }
      ]
    },
    {
      "cell_type": "code",
      "source": [
        "#29.Write a code to combine two dictionaries into one and print the result\n",
        "\n",
        "dict1 = {'name' : 'Sumit' , 'age' : 25}\n",
        "dict2 = {'city' : 'Mumbai' , 'country' : 'India'}\n",
        "combined_dict = {**dict1 , **dict2}\n",
        "print(combined_dict)\n"
      ],
      "metadata": {
        "colab": {
          "base_uri": "https://localhost:8080/"
        },
        "id": "Io0-f6-y1uBC",
        "outputId": "2ec22c22-3062-46a8-b58b-7a246b8117cd"
      },
      "execution_count": null,
      "outputs": [
        {
          "output_type": "stream",
          "name": "stdout",
          "text": [
            "{'name': 'Sumit', 'age': 25, 'city': 'Mumbai', 'country': 'India'}\n"
          ]
        }
      ]
    },
    {
      "cell_type": "code",
      "source": [
        "#30.Write a code to convert a list of strings into a set\n",
        "\n",
        "my_list = [\"apple\", \"banana\", \"cherry\", \"apple\", \"banana\"]\n",
        "my_list = set(my_list)\n",
        "print(my_list)\n"
      ],
      "metadata": {
        "colab": {
          "base_uri": "https://localhost:8080/"
        },
        "id": "zozML22T2uMW",
        "outputId": "1ffa2718-ac2f-4d64-e959-7c8068510295"
      },
      "execution_count": null,
      "outputs": [
        {
          "output_type": "stream",
          "name": "stdout",
          "text": [
            "{'apple', 'banana', 'cherry'}\n"
          ]
        }
      ]
    }
  ]
}